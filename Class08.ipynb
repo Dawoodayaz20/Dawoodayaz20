{
  "nbformat": 4,
  "nbformat_minor": 0,
  "metadata": {
    "colab": {
      "provenance": [],
      "authorship_tag": "ABX9TyPQPnE2b2I3fxDb0jeIPoX0",
      "include_colab_link": true
    },
    "kernelspec": {
      "name": "python3",
      "display_name": "Python 3"
    },
    "language_info": {
      "name": "python"
    }
  },
  "cells": [
    {
      "cell_type": "markdown",
      "metadata": {
        "id": "view-in-github",
        "colab_type": "text"
      },
      "source": [
        "<a href=\"https://colab.research.google.com/github/Dawoodayaz20/Dawoodayaz20/blob/main/Class08.ipynb\" target=\"_parent\"><img src=\"https://colab.research.google.com/assets/colab-badge.svg\" alt=\"Open In Colab\"/></a>"
      ]
    },
    {
      "cell_type": "markdown",
      "source": [
        "Class:08\n",
        "Dictionaries are key-value pairs."
      ],
      "metadata": {
        "id": "pro7Td1-2pgw"
      }
    },
    {
      "cell_type": "code",
      "execution_count": 4,
      "metadata": {
        "colab": {
          "base_uri": "https://localhost:8080/"
        },
        "id": "u-YbnEth1cJF",
        "outputId": "0ff07ca7-0a09-408a-e124-9bb6db4fe132"
      },
      "outputs": [
        {
          "output_type": "stream",
          "name": "stdout",
          "text": [
            "85\n"
          ]
        }
      ],
      "source": [
        "student_scores = {\"Alice\": 85,\"Bob\": 92, \"Charlie\": 78}\n",
        "\n",
        "print(student_scores[\"Alice\"]) #Output 85\n"
      ]
    },
    {
      "cell_type": "code",
      "source": [
        "names = {True: {1:\"Rehan\"}, False: [\"Rehan\",\"Usman\"],}\n",
        "print(names)"
      ],
      "metadata": {
        "colab": {
          "base_uri": "https://localhost:8080/"
        },
        "id": "Rw8uzgP741ID",
        "outputId": "ad7816ee-9060-4d78-8c32-f6693914dec9"
      },
      "execution_count": 5,
      "outputs": [
        {
          "output_type": "stream",
          "name": "stdout",
          "text": [
            "{True: {1: 'Rehan'}, False: ['Rehan', 'Usman']}\n"
          ]
        }
      ]
    },
    {
      "cell_type": "code",
      "source": [
        "names = {True: {1:\"Rehan\"}, False: [\"Rehan\",\"Usman\"], False: \"Mazhar\"}\n",
        "print(names[False])"
      ],
      "metadata": {
        "colab": {
          "base_uri": "https://localhost:8080/"
        },
        "id": "sCTT5pNH722k",
        "outputId": "67e8b721-1b13-4c65-8d0b-a51f5fc1e6ef"
      },
      "execution_count": 9,
      "outputs": [
        {
          "output_type": "stream",
          "name": "stdout",
          "text": [
            "Mazhar\n"
          ]
        }
      ]
    },
    {
      "cell_type": "code",
      "source": [
        "# prompt: append \"name\":\"Mazhar\" in students_details\n",
        "\n",
        "# Class:08\n",
        "# Dictionaries are key-value pairs.\n",
        "student_scores = {\"Alice\": 85,\"Bob\": 92, \"Charlie\": 78}\n",
        "\n",
        "print(student_scores[\"Alice\"]) #Output 85\n",
        "\n",
        "names = {True: {1:\"Rehan\"}, False: [\"Rehan\",\"Usman\"],}\n",
        "print(names)\n",
        "names = {True: {1:\"Rehan\"}, False: [\"Rehan\",\"Usman\"], False: \"Mazhar\"}\n",
        "print(names[False])\n",
        "\n",
        "students_details = {}\n",
        "students_details[\"name\"] = \"Mazhar\"\n",
        "print(students_details)\n"
      ],
      "metadata": {
        "id": "asI6j_nT-Z49"
      },
      "execution_count": null,
      "outputs": []
    },
    {
      "cell_type": "code",
      "source": [
        "# prompt: add through any other way \"name\":\"Mazhar\"\n",
        "\n",
        "students_details = {}\n",
        "students_details.update({\"name\": \"Mazhar\"})\n",
        "print(students_details)\n",
        "student_scores = {\"Alice\": 85,\"Bob\": 92, \"Charlie\": 78}\n",
        "\n",
        "print(student_scores[\"Alice\"])\n",
        "\n",
        "student_scores.values()"
      ],
      "metadata": {
        "colab": {
          "base_uri": "https://localhost:8080/"
        },
        "id": "Fj8bBP8z_Apv",
        "outputId": "96a1d7c3-c382-4c25-803c-a257289400e2"
      },
      "execution_count": 11,
      "outputs": [
        {
          "output_type": "stream",
          "name": "stdout",
          "text": [
            "{'name': 'Mazhar'}\n",
            "85\n"
          ]
        },
        {
          "output_type": "execute_result",
          "data": {
            "text/plain": [
              "dict_values([85, 92, 78])"
            ]
          },
          "metadata": {},
          "execution_count": 11
        }
      ]
    },
    {
      "cell_type": "code",
      "source": [
        "student_scores.keys()\n"
      ],
      "metadata": {
        "colab": {
          "base_uri": "https://localhost:8080/"
        },
        "id": "wJOhGh8bA2p1",
        "outputId": "361369c1-7636-4ac8-d90c-8b9e81511922"
      },
      "execution_count": 12,
      "outputs": [
        {
          "output_type": "execute_result",
          "data": {
            "text/plain": [
              "dict_keys(['Alice', 'Bob', 'Charlie'])"
            ]
          },
          "metadata": {},
          "execution_count": 12
        }
      ]
    },
    {
      "cell_type": "code",
      "source": [
        "student_scores.items()"
      ],
      "metadata": {
        "colab": {
          "base_uri": "https://localhost:8080/"
        },
        "id": "r-6kcaAyA86v",
        "outputId": "7c632d4b-ac59-49e8-8680-5ffda6ca8aaa"
      },
      "execution_count": 13,
      "outputs": [
        {
          "output_type": "execute_result",
          "data": {
            "text/plain": [
              "dict_items([('Alice', 85), ('Bob', 92), ('Charlie', 78)])"
            ]
          },
          "metadata": {},
          "execution_count": 13
        }
      ]
    },
    {
      "cell_type": "markdown",
      "source": [
        "this gave an output as a tuple key pair when we wrote .items"
      ],
      "metadata": {
        "id": "dy-19y5NBfRW"
      }
    },
    {
      "cell_type": "code",
      "source": [
        "fruits : list[str] = [\"apple\", \"banana\", \"cherry\"]\n",
        "fruits_dict : dict[int, str] = {i: fruit for i, fruit in enumerate(fruits)}\n",
        "print(fruits_dict)"
      ],
      "metadata": {
        "colab": {
          "base_uri": "https://localhost:8080/"
        },
        "id": "OlV5X0n7Bmaa",
        "outputId": "3f4777d7-2893-454e-a018-ad4c7e60abf9"
      },
      "execution_count": 14,
      "outputs": [
        {
          "output_type": "stream",
          "name": "stdout",
          "text": [
            "{0: 'apple', 1: 'banana', 2: 'cherry'}\n"
          ]
        }
      ]
    },
    {
      "cell_type": "markdown",
      "source": [
        "enumerate function provides us index and value stored on it"
      ],
      "metadata": {
        "id": "rWvQOxYeDHtT"
      }
    },
    {
      "cell_type": "markdown",
      "source": [
        "**Topic : Functions**"
      ],
      "metadata": {
        "id": "3TNn7w4JKJ_A"
      }
    },
    {
      "cell_type": "code",
      "source": [
        "\n",
        "#Class08\n",
        "#Functions:\n"
      ],
      "metadata": {
        "id": "uFhy777nKSuw"
      },
      "execution_count": null,
      "outputs": []
    }
  ]
}